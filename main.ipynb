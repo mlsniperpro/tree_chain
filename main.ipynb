{
 "cells": [
  {
   "cell_type": "code",
   "execution_count": 1,
   "id": "28664417",
   "metadata": {},
   "outputs": [],
   "source": [
    "transaction1 = {\n",
    "  'amount': '30',\n",
    "  'sender': 'Alice',\n",
    "  'receiver': 'Bob'}\n",
    "transaction2 = { \n",
    "  'amount': '200',\n",
    "  'sender': 'Bob',\n",
    "  'receiver': 'Alice'}\n",
    "transaction3 = { \n",
    "  'amount': '300',\n",
    "  'sender': 'Alice',\n",
    "  'receiver': 'Timothy' }\n",
    "transaction4 = { \n",
    "  'amount': '300',\n",
    "  'sender': 'Rodrigo',\n",
    "  'receiver': 'Thomas' }\n",
    "transaction5 = { \n",
    "  'amount': '200',\n",
    "  'sender': 'Timothy',\n",
    "  'receiver': 'Thomas' }\n",
    "transaction6 = { \n",
    "  'amount': '400',\n",
    "  'sender': 'Tiffany',\n",
    "  'receiver': 'Xavier' }\n",
    "\n",
    "mempool = [transaction1, transaction2, transaction3, transaction4, transaction5, transaction6]\n",
    "\n",
    "# add your code below\n",
    "my_transaction = {\n",
    "  'amount':'400',\n",
    "  'sender':'Fiffany',\n",
    "  'receiver':'peter'\n",
    "}\n",
    "mempool.append(my_transaction)\n",
    "block_transactions=mempool[:3]"
   ]
  },
  {
   "cell_type": "code",
   "execution_count": 2,
   "id": "29014906",
   "metadata": {},
   "outputs": [],
   "source": [
    "#The creation of the block\n",
    "from datetime import datetime\n",
    "from hashlib import sha256\n",
    "class Block:\n",
    "    #Initializing the block\n",
    "    def __init__(self, transactions, previous_hash,nonce=0):\n",
    "        self.transactions = transactions\n",
    "        self.previous_hash = previous_hash\n",
    "        self.nonce = nonce\n",
    "        self.timestamp = datetime.now()\n",
    "        #Call the geretate_hash to get the hash of block\n",
    "        self.hash = self.generate_hash()\n",
    "    def display_block_info(self):\n",
    "        print(\"tmestamp: \", self.timestamp)\n",
    "        print(\"transactions: \", self.transactions)\n",
    "        print(\"Current hash: \", self.generate_hash())\n",
    "    #We now proceed to generate hash for the block\n",
    "    def generate_hash(self):\n",
    "        block_contents = str(self.timestamp)+str(self.transactions)+str(self.nonce)+str(self.previous_hash)\n",
    "        block_hash = sha256(block_contents.encode())\n",
    "        return block_hash.hexdigest()\n"
   ]
  },
  {
   "cell_type": "code",
   "execution_count": 3,
   "id": "8e3811a2",
   "metadata": {},
   "outputs": [],
   "source": [
    "class Blockchain:\n",
    "    def __init__(self):\n",
    "        self.chain = []\n",
    "        self.all_transactions = []\n",
    "        self.genesis_block()\n",
    "    \n",
    "    def genesis_block(self):\n",
    "        transactions = {}\n",
    "        genesis_block = Block(transactions, \"0\")\n",
    "        self.chain.append(genesis_block)\n",
    "        return self.chain\n",
    "    def print_blocks(self):\n",
    "        for i in range(len(self.chain)):\n",
    "            current_block = self.chain[i]\n",
    "            print(\"Block {} {}\".format(i, current_block))\n",
    "            current_block.display_block_info()\n",
    "    #Add block to the chain\n",
    "    def add_block(self, transactions):\n",
    "        self.previous_block_hash = self.chain[len(self.chain)-1].hash\n",
    "        new_block = Block(transactions, self.previous_block_hash)\n",
    "        #We need to calculate the proof of work\n",
    "        proof = self.proof_of_work(new_block, difficulty=2)\n",
    "        self.chain.append(new_block)\n",
    "        return proof, new_block\n",
    "    def validate_chain(self):\n",
    "        for i in range(1, len(self.chain)):\n",
    "            current = self.chain[i]\n",
    "            previous = self.chain[i-1]\n",
    "            if (current.hash != current.generate_hash()):\n",
    "                print(\"The current hash of the block does not equal the generated hash of the block.\")\n",
    "                return False\n",
    "            if (current.previous_hash != previous.generate_hash()):\n",
    "                print(\"Previous block not equal previous hash value stored in current block\")\n",
    "                return False\n",
    "        return True\n",
    "    def proof_of_work(self,block,difficulty=2):\n",
    "        proof = block.generate_hash()\n",
    "        while proof[:difficulty] != '0'*difficulty:\n",
    "            block.nonce += 1\n",
    "            proof = block.generate_hash()\n",
    "        block.nonce = 0\n",
    "        return proof"
   ]
  },
  {
   "cell_type": "code",
   "execution_count": 4,
   "id": "6d53e477",
   "metadata": {},
   "outputs": [],
   "source": [
    "new_transactions = [{'amount': '30', 'sender':'alice', 'receiver':'bob'},\n",
    "               \t{'amount': '55', 'sender':'bob', 'receiver':'alice'}]"
   ]
  },
  {
   "cell_type": "code",
   "execution_count": 5,
   "id": "7807264a",
   "metadata": {},
   "outputs": [],
   "source": [
    "my_blockchain = Blockchain()"
   ]
  },
  {
   "cell_type": "code",
   "execution_count": 6,
   "id": "200882d4",
   "metadata": {},
   "outputs": [
    {
     "data": {
      "text/plain": [
       "('007777041cd737bf3e8cc5f366d8c332e401fb9c8dd15588245c8d7c9600e353',\n",
       " <__main__.Block at 0x26cc7808af0>)"
      ]
     },
     "execution_count": 6,
     "metadata": {},
     "output_type": "execute_result"
    }
   ],
   "source": [
    "my_blockchain.add_block(new_transactions)"
   ]
  },
  {
   "cell_type": "code",
   "execution_count": 7,
   "id": "356f1d2d",
   "metadata": {},
   "outputs": [
    {
     "name": "stdout",
     "output_type": "stream",
     "text": [
      "Block 0 <__main__.Block object at 0x0000026CC78084C0>\n",
      "tmestamp:  2022-05-13 08:56:16.870069\n",
      "transactions:  {}\n",
      "Current hash:  ef71e5f17e6c4cb2a72c1ccf9387d4beff41a05c4a4225d1e5cfc01335d152ee\n",
      "Block 1 <__main__.Block object at 0x0000026CC7808AF0>\n",
      "tmestamp:  2022-05-13 08:56:29.335011\n",
      "transactions:  [{'amount': '30', 'sender': 'alice', 'receiver': 'bob'}, {'amount': '55', 'sender': 'bob', 'receiver': 'alice'}]\n",
      "Current hash:  9bcef99050508d891904548882103f5b3d097ca4e3439281c4179039edb28bde\n"
     ]
    }
   ],
   "source": [
    "my_blockchain.print_blocks()"
   ]
  },
  {
   "cell_type": "code",
   "execution_count": 8,
   "id": "66cae9ea",
   "metadata": {},
   "outputs": [],
   "source": [
    "my_blockchain.chain[1].transactions = \"fake_transactions\""
   ]
  },
  {
   "cell_type": "code",
   "execution_count": 9,
   "id": "fca62806",
   "metadata": {},
   "outputs": [
    {
     "name": "stdout",
     "output_type": "stream",
     "text": [
      "The current hash of the block does not equal the generated hash of the block.\n"
     ]
    },
    {
     "data": {
      "text/plain": [
       "False"
      ]
     },
     "execution_count": 9,
     "metadata": {},
     "output_type": "execute_result"
    }
   ],
   "source": [
    "my_blockchain.validate_chain()"
   ]
  },
  {
   "cell_type": "code",
   "execution_count": null,
   "id": "def0868a",
   "metadata": {},
   "outputs": [],
   "source": [
    "class Validator:\n",
    "    def __init__(self, pub_key):\n",
    "        "
   ]
  }
 ],
 "metadata": {
  "kernelspec": {
   "display_name": "Python 3 (ipykernel)",
   "language": "python",
   "name": "python3"
  },
  "language_info": {
   "codemirror_mode": {
    "name": "ipython",
    "version": 3
   },
   "file_extension": ".py",
   "mimetype": "text/x-python",
   "name": "python",
   "nbconvert_exporter": "python",
   "pygments_lexer": "ipython3",
   "version": "3.9.12"
  }
 },
 "nbformat": 4,
 "nbformat_minor": 5
}
