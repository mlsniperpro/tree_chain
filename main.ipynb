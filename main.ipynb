{
 "cells": [
  {
   "cell_type": "code",
   "execution_count": 146,
   "id": "28664417",
   "metadata": {},
   "outputs": [],
   "source": [
    "transaction1 = {\n",
    "  'amount': '30',\n",
    "  'sender': 'Alice',\n",
    "  'receiver': 'Bob'}\n",
    "transaction2 = { \n",
    "  'amount': '200',\n",
    "  'sender': 'Bob',\n",
    "  'receiver': 'Alice'}\n",
    "transaction3 = { \n",
    "  'amount': '300',\n",
    "  'sender': 'Alice',\n",
    "  'receiver': 'Timothy' }\n",
    "transaction4 = { \n",
    "  'amount': '300',\n",
    "  'sender': 'Rodrigo',\n",
    "  'receiver': 'Thomas' }\n",
    "transaction5 = { \n",
    "  'amount': '200',\n",
    "  'sender': 'Timothy',\n",
    "  'receiver': 'Thomas' }\n",
    "transaction6 = { \n",
    "  'amount': '400',\n",
    "  'sender': 'Tiffany',\n",
    "  'receiver': 'Xavier' }\n",
    "\n",
    "mempool = [transaction1, transaction2, transaction3, transaction4, transaction5, transaction6]\n",
    "\n",
    "# add your code below\n",
    "my_transaction = {\n",
    "  'amount':'400',\n",
    "  'sender':'Fiffany',\n",
    "  'receiver':'peter'\n",
    "}\n",
    "mempool.append(my_transaction)\n",
    "block_transactions=mempool[:3]"
   ]
  },
  {
   "cell_type": "code",
   "execution_count": 147,
   "id": "9a8e3eb2",
   "metadata": {},
   "outputs": [],
   "source": [
    "class Validator:\n",
    "    def __init__(self,pub_key, chain):\n",
    "        self.pub_key = pub_key\n",
    "        self.chain = chain\n",
    "        self.consensus_code  = 0\n",
    "    def generate_consensus_table(self, validators_list):\n",
    "        sorted_kwm = []\n",
    "        self.validators_list = validators_list\n",
    "        for validator in validators_list:\n",
    "            sorted_kwm.append(self.calculate_kwm())\n",
    "        return sorted_kwm\n",
    "        \n",
    "    def calculate_kwm(self):\n",
    "        alphabets = \"ABCDEFGHIJKLMNOPQRSTUVWXYZ\"\n",
    "        dictionary = {}\n",
    "        i = 11\n",
    "        j = 37\n",
    "        for letter in alphabets:\n",
    "            dictionary[letter.lower()] = j\n",
    "            dictionary[letter] = i\n",
    "            j += 1\n",
    "            i+=1\n",
    "        for i in range(10):\n",
    "            dictionary[i] = i\n",
    "        hash_to_calculate = self.pub_key\n",
    "        kwm = 0\n",
    "        for individual_letter in hash_to_calculate:\n",
    "            try:\n",
    "                kwm += dictionary[individual_letter]\n",
    "            except:\n",
    "                kwm += dictionary[int(individual_letter)]\n",
    "        return kwm"
   ]
  },
  {
   "cell_type": "code",
   "execution_count": 148,
   "id": "29014906",
   "metadata": {},
   "outputs": [],
   "source": [
    "#The creation of the block\n",
    "from datetime import datetime\n",
    "from hashlib import sha256\n",
    "class Block:\n",
    "    #Initializing the block\n",
    "    def __init__(self, transactions, previous_hash,nonce=0):\n",
    "        self.transactions = transactions\n",
    "        self.previous_hash = previous_hash\n",
    "        self.nonce = nonce\n",
    "        self.timestamp = datetime.now()\n",
    "        #Call the geretate_hash to get the hash of block\n",
    "        self.hash = self.generate_hash()\n",
    "    def display_block_info(self):\n",
    "        print(\"tmestamp: \", self.timestamp)\n",
    "        print(\"transactions: \", self.transactions)\n",
    "        print(\"Current hash: \", self.generate_hash())\n",
    "    #We now proceed to generate hash for the block\n",
    "    def generate_hash(self):\n",
    "        block_contents = str(self.timestamp)+str(self.transactions)+str(self.nonce)+str(self.previous_hash)\n",
    "        block_hash = sha256(block_contents.encode())\n",
    "        return block_hash.hexdigest()\n"
   ]
  },
  {
   "cell_type": "code",
   "execution_count": 149,
   "id": "8e3811a2",
   "metadata": {},
   "outputs": [],
   "source": [
    "class Blockchain:\n",
    "    def __init__(self):\n",
    "        self.chain = []\n",
    "        self.all_transactions = []\n",
    "        self.genesis_block()\n",
    "    \n",
    "    def genesis_block(self):\n",
    "        transactions = {}\n",
    "        genesis_block = Block(transactions, \"0\")\n",
    "        self.chain.append(genesis_block)\n",
    "        return self.chain\n",
    "    def print_blocks(self):\n",
    "        for i in range(len(self.chain)):\n",
    "            current_block = self.chain[i]\n",
    "            print(\"Block {} {}\".format(i, current_block))\n",
    "            current_block.display_block_info()\n",
    "    #Add block to the chain\n",
    "    def add_block(self, transactions):\n",
    "        self.previous_block_hash = self.chain[len(self.chain)-1].hash\n",
    "        new_block = Block(transactions, self.previous_block_hash)\n",
    "        #We need to calculate the proof of work\n",
    "        proof = self.proof_of_work(new_block, difficulty=2)\n",
    "        self.chain.append(new_block)\n",
    "        return proof, new_block\n",
    "    def validate_chain(self):\n",
    "        for i in range(1, len(self.chain)):\n",
    "            current = self.chain[i]\n",
    "            previous = self.chain[i-1]\n",
    "            if (current.hash != current.generate_hash()):\n",
    "                print(\"The current hash of the block does not equal the generated hash of the block.\")\n",
    "                return False\n",
    "            if (current.previous_hash != previous.generate_hash()):\n",
    "                print(\"Previous block not equal previous hash value stored in current block\")\n",
    "                return False\n",
    "        return True\n",
    "    def proof_of_work(self,block,difficulty=2):\n",
    "        proof = block.generate_hash()\n",
    "        while proof[:difficulty] != '0'*difficulty:\n",
    "            block.nonce += 1\n",
    "            proof = block.generate_hash()\n",
    "        block.nonce = 0\n",
    "        return proof"
   ]
  },
  {
   "cell_type": "code",
   "execution_count": 150,
   "id": "def0868a",
   "metadata": {},
   "outputs": [],
   "source": [
    "#Staring off the tree chain\n",
    "validator1_copy = Validator(\"axqPe96aiwZjQ\", Blockchain())  \n",
    "validator2_copy = Validator(\"aQfx12ijAtcTM\",Blockchain())\n",
    "validator3_copy = Validator(\"J94Vswa72liac\", Blockchain())"
   ]
  },
  {
   "cell_type": "code",
   "execution_count": 151,
   "id": "71fa9dc4",
   "metadata": {},
   "outputs": [],
   "source": [
    "import random\n",
    "import math\n",
    "#Randomizing the block\n",
    "transactions = [transaction1, transaction2, transaction3, transaction4, transaction5, transaction6]\n",
    "random.shuffle(transactions)"
   ]
  },
  {
   "cell_type": "code",
   "execution_count": 152,
   "id": "9731e806",
   "metadata": {},
   "outputs": [],
   "source": [
    "validators = [validator1_copy, validator2_copy, validator3_copy]\n",
    "validators = sorted(validators, key=Validator.calculate_kwm, reverse=True)"
   ]
  },
  {
   "cell_type": "code",
   "execution_count": 153,
   "id": "d6c88184",
   "metadata": {},
   "outputs": [],
   "source": [
    "#Assign the consensus code\n",
    "consensus_reference = [1,2,3,4,5,6,7,8,9, 'A', 'B','C','D','E','F','G','H','I','J','K','L','M','N','O','P','Q','R','S','T','U'\n",
    "                      'V','W','X','Y','Z','a','b','c','d','e','f','g','h','i','j','k','l','m','n','o','q','r','s','t','u','v',\n",
    "                      'w','x','y','z']\n",
    "code_multiplier = math.ceil(len(transactions)/len(consensus_reference))\n",
    "consensus_codes = [str(consensus_reference[i])*code_multiplier for i in range(len(transactions))]\n",
    "#Assign the consensus_code to validators\n",
    "for i in range(len(validators)):\n",
    "    validators[i].consensus_code = consensus_codes[i]"
   ]
  },
  {
   "cell_type": "code",
   "execution_count": 154,
   "id": "be90e04a",
   "metadata": {},
   "outputs": [
    {
     "data": {
      "text/plain": [
       "'2'"
      ]
     },
     "execution_count": 154,
     "metadata": {},
     "output_type": "execute_result"
    }
   ],
   "source": [
    "validators[1].consensus_code"
   ]
  },
  {
   "cell_type": "code",
   "execution_count": 155,
   "id": "4c7c1f56",
   "metadata": {},
   "outputs": [],
   "source": [
    "transaction_first_validator = math.ceil(len(transactions)/len(validators))\n",
    "share_by_other_validators = math.floor(len(transactions)/len(validators))\n",
    "divisions = []\n",
    "divisions.append(transaction_first_validator)\n",
    "for validator in validators[1:]:\n",
    "    divisions.append(share_by_other_validators)"
   ]
  },
  {
   "cell_type": "code",
   "execution_count": 156,
   "id": "d96d38f0",
   "metadata": {},
   "outputs": [],
   "source": [
    "new_division = []\n",
    "j = 0\n",
    "for i in divisions:\n",
    "    j += i\n",
    "    new_division.append(j)"
   ]
  },
  {
   "cell_type": "code",
   "execution_count": 157,
   "id": "14bfa3fb",
   "metadata": {},
   "outputs": [],
   "source": [
    "transaction_share = []\n",
    "transaction_share.append(transactions[:transaction_first_validator])"
   ]
  },
  {
   "cell_type": "code",
   "execution_count": 158,
   "id": "bc0a36a5",
   "metadata": {},
   "outputs": [
    {
     "data": {
      "text/plain": [
       "[[{'amount': '300', 'sender': 'Alice', 'receiver': 'Timothy'},\n",
       "  {'amount': '200', 'sender': 'Bob', 'receiver': 'Alice'}]]"
      ]
     },
     "execution_count": 158,
     "metadata": {},
     "output_type": "execute_result"
    }
   ],
   "source": [
    "transaction_share"
   ]
  },
  {
   "cell_type": "code",
   "execution_count": 159,
   "id": "07002769",
   "metadata": {},
   "outputs": [],
   "source": [
    "for i in range(len(validators[1:])):\n",
    "    transaction_share.append(transactions[new_division[i]-share_by_other_validators:new_division[i]])"
   ]
  },
  {
   "cell_type": "code",
   "execution_count": 160,
   "id": "176cae1b",
   "metadata": {},
   "outputs": [
    {
     "data": {
      "text/plain": [
       "3"
      ]
     },
     "execution_count": 160,
     "metadata": {},
     "output_type": "execute_result"
    }
   ],
   "source": [
    "len(transaction_share)"
   ]
  },
  {
   "cell_type": "code",
   "execution_count": 161,
   "id": "aa7950f4",
   "metadata": {},
   "outputs": [],
   "source": [
    "main_blockchain = Blockchain()"
   ]
  },
  {
   "cell_type": "code",
   "execution_count": 162,
   "id": "86dc0816",
   "metadata": {},
   "outputs": [
    {
     "data": {
      "text/plain": [
       "3"
      ]
     },
     "execution_count": 162,
     "metadata": {},
     "output_type": "execute_result"
    }
   ],
   "source": [
    "len(transaction_share)"
   ]
  },
  {
   "cell_type": "code",
   "execution_count": 163,
   "id": "b84ade28",
   "metadata": {},
   "outputs": [],
   "source": [
    "for i in range(len(validators)):\n",
    "    validator_copy = validators[i].chain\n",
    "    validator_copy.add_block(transaction_share[i])\n",
    "    if validator_copy.validate_chain():\n",
    "        validator_copy.chain[-1].hash = consensus_codes[i]+str(validator_copy.chain[-1].hash)\n",
    "        main_blockchain=validator_copy\n",
    "    else:\n",
    "        print(f\"Validator index {i} is acting maliciously, there is need to intervene\")"
   ]
  },
  {
   "cell_type": "code",
   "execution_count": 164,
   "id": "0f7bac17",
   "metadata": {},
   "outputs": [
    {
     "data": {
      "text/plain": [
       "[<__main__.Block at 0x18729d9f490>, <__main__.Block at 0x187291f8610>]"
      ]
     },
     "execution_count": 164,
     "metadata": {},
     "output_type": "execute_result"
    }
   ],
   "source": [
    "main_blockchain.chain"
   ]
  },
  {
   "cell_type": "code",
   "execution_count": 165,
   "id": "9099cc7d",
   "metadata": {},
   "outputs": [
    {
     "name": "stdout",
     "output_type": "stream",
     "text": [
      "C:\\Users\\user\\Desktop\\FreelancerProjects\\Consensus\\tree_chain\n"
     ]
    }
   ],
   "source": [
    "import os\n",
    "print(os.getcwd())"
   ]
  },
  {
   "cell_type": "code",
   "execution_count": 166,
   "id": "38e18edc",
   "metadata": {},
   "outputs": [
    {
     "data": {
      "text/plain": [
       "[482, 482, 482]"
      ]
     },
     "execution_count": 166,
     "metadata": {},
     "output_type": "execute_result"
    }
   ],
   "source": [
    "validator1_copy.generate_consensus_table(validators)"
   ]
  },
  {
   "cell_type": "code",
   "execution_count": 168,
   "id": "26d7e192",
   "metadata": {},
   "outputs": [
    {
     "data": {
      "text/plain": [
       "'16113e40bb31e632a30ee1fb686df5ee25a04176c1e21a69131df567fcbdea70'"
      ]
     },
     "execution_count": 168,
     "metadata": {},
     "output_type": "execute_result"
    }
   ],
   "source": [
    "main_blockchain.chain[0].hash"
   ]
  }
 ],
 "metadata": {
  "kernelspec": {
   "display_name": "Python 3 (ipykernel)",
   "language": "python",
   "name": "python3"
  },
  "language_info": {
   "codemirror_mode": {
    "name": "ipython",
    "version": 3
   },
   "file_extension": ".py",
   "mimetype": "text/x-python",
   "name": "python",
   "nbconvert_exporter": "python",
   "pygments_lexer": "ipython3",
   "version": "3.9.12"
  }
 },
 "nbformat": 4,
 "nbformat_minor": 5
}
