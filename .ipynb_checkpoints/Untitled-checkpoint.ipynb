{
 "cells": [
  {
   "cell_type": "code",
   "execution_count": 6,
   "id": "3684b798",
   "metadata": {},
   "outputs": [],
   "source": [
    "#The creation of the block\n",
    "from datetime import datetime\n",
    "from hashlib import sha256\n",
    "class Block:\n",
    "    #Initializing the block\n",
    "    def __init__(self, transactions, previous_hash,nonce=0):\n",
    "        self.transactions = transactions\n",
    "        self.previous_hash = previous_hash\n",
    "        self.nonce = nonce\n",
    "        self.timestamp = datetime.now()\n",
    "        #Call the geretate_hash to get the hash of block\n",
    "        self.hash = self.generate_hash()\n",
    "    def display_block_info(self):\n",
    "        print(\"tmestamp: \", self.timestamp)\n",
    "        print(\"transactions: \", self.transactions)\n",
    "        print(\"Current hash: \", self.generate_hash())\n",
    "    #We now proceed to generate hash for the block\n",
    "    def generate_hash(self):\n",
    "        block_contents = str(self.timestamp)+str(self.transactions)+str(self.nonce)+str(self.previous_hash)\n",
    "        block_hash = sha256(block_contents.encode())\n",
    "        return block_hash.hexdigest()"
   ]
  },
  {
   "cell_type": "code",
   "execution_count": 7,
   "id": "f93e54a5",
   "metadata": {},
   "outputs": [],
   "source": [
    "class Blockchain:\n",
    "    def __init__(self):\n",
    "        self.chain = []\n",
    "        self.all_transactions = []\n",
    "        self.genesis_block()\n",
    "    \n",
    "    def genesis_block(self):\n",
    "        transactions = {}\n",
    "        genesis_block = Block(transactions, \"0\")\n",
    "        self.chain.append(genesis_block)\n",
    "        return self.chain\n",
    "    def print_blocks(self):\n",
    "        for i in range(len(self.chain)):\n",
    "            current_block = self.chain[i]\n",
    "            print(\"Block {} {}\".format(i, current_block))\n",
    "            current_block.display_block_info()\n",
    "    #Add block to the chain\n",
    "    def add_block(self, transactions):\n",
    "        self.previous_block_hash = self.chain[len(self.chain)-1].hash\n",
    "        new_block = Block(transactions, self.previous_block_hash)\n",
    "        #We need to calculate the proof of work\n",
    "        proof = self.proof_of_work(new_block, difficulty=10)\n",
    "        self.chain.append(new_block)\n",
    "        return proof, new_block\n",
    "    def validate_chain(self):\n",
    "        for i in range(1, len(self.chain)):\n",
    "            current = self.chain[i]\n",
    "            previous = self.chain[i-1]\n",
    "            if (current.hash != current.generate_hash()):\n",
    "                print(\"The current hash of the block does not equal the generated hash of the block.\")\n",
    "                return False\n",
    "            if (current.previous_hash != previous.generate_hash()):\n",
    "                print(\"Previous block not equal previous hash value stored in current block\")\n",
    "                return False\n",
    "        return True\n",
    "    def proof_of_work(self,block,difficulty=2):\n",
    "        proof = block.generate_hash()\n",
    "        while proof[:difficulty] != '0'*difficulty:\n",
    "            block.nonce += 1\n",
    "            proof = block.generate_hash()\n",
    "        block.nonce = 0\n",
    "        return proof"
   ]
  },
  {
   "cell_type": "code",
   "execution_count": 8,
   "id": "9d08dde6",
   "metadata": {},
   "outputs": [],
   "source": [
    "new_transactions = [{'amount': '30', 'sender':'alice', 'receiver':'bob'},\n",
    "               \t{'amount': '55', 'sender':'bob', 'receiver':'alice'}]"
   ]
  },
  {
   "cell_type": "code",
   "execution_count": 9,
   "id": "ea85b3b4",
   "metadata": {},
   "outputs": [],
   "source": [
    "my_blockchain = Blockchain()"
   ]
  },
  {
   "cell_type": "code",
   "execution_count": 10,
   "id": "255ac3ef",
   "metadata": {},
   "outputs": [
    {
     "ename": "KeyboardInterrupt",
     "evalue": "",
     "output_type": "error",
     "traceback": [
      "\u001b[1;31m---------------------------------------------------------------------------\u001b[0m",
      "\u001b[1;31mKeyboardInterrupt\u001b[0m                         Traceback (most recent call last)",
      "Input \u001b[1;32mIn [10]\u001b[0m, in \u001b[0;36m<cell line: 1>\u001b[1;34m()\u001b[0m\n\u001b[1;32m----> 1\u001b[0m \u001b[43mmy_blockchain\u001b[49m\u001b[38;5;241;43m.\u001b[39;49m\u001b[43madd_block\u001b[49m\u001b[43m(\u001b[49m\u001b[43mnew_transactions\u001b[49m\u001b[43m)\u001b[49m\n",
      "Input \u001b[1;32mIn [7]\u001b[0m, in \u001b[0;36mBlockchain.add_block\u001b[1;34m(self, transactions)\u001b[0m\n\u001b[0;32m     20\u001b[0m new_block \u001b[38;5;241m=\u001b[39m Block(transactions, \u001b[38;5;28mself\u001b[39m\u001b[38;5;241m.\u001b[39mprevious_block_hash)\n\u001b[0;32m     21\u001b[0m \u001b[38;5;66;03m#We need to calculate the proof of work\u001b[39;00m\n\u001b[1;32m---> 22\u001b[0m proof \u001b[38;5;241m=\u001b[39m \u001b[38;5;28;43mself\u001b[39;49m\u001b[38;5;241;43m.\u001b[39;49m\u001b[43mproof_of_work\u001b[49m\u001b[43m(\u001b[49m\u001b[43mnew_block\u001b[49m\u001b[43m,\u001b[49m\u001b[43m \u001b[49m\u001b[43mdifficulty\u001b[49m\u001b[38;5;241;43m=\u001b[39;49m\u001b[38;5;241;43m10\u001b[39;49m\u001b[43m)\u001b[49m\n\u001b[0;32m     23\u001b[0m \u001b[38;5;28mself\u001b[39m\u001b[38;5;241m.\u001b[39mchain\u001b[38;5;241m.\u001b[39mappend(new_block)\n\u001b[0;32m     24\u001b[0m \u001b[38;5;28;01mreturn\u001b[39;00m proof, new_block\n",
      "Input \u001b[1;32mIn [7]\u001b[0m, in \u001b[0;36mBlockchain.proof_of_work\u001b[1;34m(self, block, difficulty)\u001b[0m\n\u001b[0;32m     38\u001b[0m \u001b[38;5;28;01mwhile\u001b[39;00m proof[:difficulty] \u001b[38;5;241m!=\u001b[39m \u001b[38;5;124m'\u001b[39m\u001b[38;5;124m0\u001b[39m\u001b[38;5;124m'\u001b[39m\u001b[38;5;241m*\u001b[39mdifficulty:\n\u001b[0;32m     39\u001b[0m     block\u001b[38;5;241m.\u001b[39mnonce \u001b[38;5;241m+\u001b[39m\u001b[38;5;241m=\u001b[39m \u001b[38;5;241m1\u001b[39m\n\u001b[1;32m---> 40\u001b[0m     proof \u001b[38;5;241m=\u001b[39m \u001b[43mblock\u001b[49m\u001b[38;5;241;43m.\u001b[39;49m\u001b[43mgenerate_hash\u001b[49m\u001b[43m(\u001b[49m\u001b[43m)\u001b[49m\n\u001b[0;32m     41\u001b[0m block\u001b[38;5;241m.\u001b[39mnonce \u001b[38;5;241m=\u001b[39m \u001b[38;5;241m0\u001b[39m\n\u001b[0;32m     42\u001b[0m \u001b[38;5;28;01mreturn\u001b[39;00m proof\n",
      "Input \u001b[1;32mIn [6]\u001b[0m, in \u001b[0;36mBlock.generate_hash\u001b[1;34m(self)\u001b[0m\n\u001b[0;32m     18\u001b[0m \u001b[38;5;28;01mdef\u001b[39;00m \u001b[38;5;21mgenerate_hash\u001b[39m(\u001b[38;5;28mself\u001b[39m):\n\u001b[1;32m---> 19\u001b[0m     block_contents \u001b[38;5;241m=\u001b[39m \u001b[38;5;28;43mstr\u001b[39;49m(\u001b[38;5;28mself\u001b[39m\u001b[38;5;241m.\u001b[39mtimestamp)\u001b[38;5;241m+\u001b[39m\u001b[38;5;28mstr\u001b[39m(\u001b[38;5;28mself\u001b[39m\u001b[38;5;241m.\u001b[39mtransactions)\u001b[38;5;241m+\u001b[39m\u001b[38;5;28mstr\u001b[39m(\u001b[38;5;28mself\u001b[39m\u001b[38;5;241m.\u001b[39mnonce)\u001b[38;5;241m+\u001b[39m\u001b[38;5;28mstr\u001b[39m(\u001b[38;5;28mself\u001b[39m\u001b[38;5;241m.\u001b[39mprevious_hash)\n\u001b[0;32m     20\u001b[0m     block_hash \u001b[38;5;241m=\u001b[39m sha256(block_contents\u001b[38;5;241m.\u001b[39mencode())\n\u001b[0;32m     21\u001b[0m     \u001b[38;5;28;01mreturn\u001b[39;00m block_hash\u001b[38;5;241m.\u001b[39mhexdigest()\n",
      "\u001b[1;31mKeyboardInterrupt\u001b[0m: "
     ]
    }
   ],
   "source": [
    "my_blockchain.add_block(new_transactions)"
   ]
  },
  {
   "cell_type": "code",
   "execution_count": null,
   "id": "6ad5054a",
   "metadata": {},
   "outputs": [],
   "source": [
    "my_blockchain.print_blocks()"
   ]
  },
  {
   "cell_type": "code",
   "execution_count": null,
   "id": "7edf41c4",
   "metadata": {},
   "outputs": [],
   "source": [
    "my_blockchain.chain[1].transactions = \"fake_transactions\""
   ]
  },
  {
   "cell_type": "code",
   "execution_count": 30,
   "id": "e840cffa",
   "metadata": {},
   "outputs": [
    {
     "name": "stdout",
     "output_type": "stream",
     "text": [
      "The current hash of the block does not equal the generated hash of the block.\n"
     ]
    },
    {
     "data": {
      "text/plain": [
       "False"
      ]
     },
     "execution_count": 30,
     "metadata": {},
     "output_type": "execute_result"
    }
   ],
   "source": [
    "my_blockchain.validate_chain()"
   ]
  },
  {
   "cell_type": "code",
   "execution_count": null,
   "id": "47f76f33",
   "metadata": {},
   "outputs": [],
   "source": [
    "#Let's now introcuce the concept of the tree chain \n"
   ]
  }
 ],
 "metadata": {
  "kernelspec": {
   "display_name": "Python 3 (ipykernel)",
   "language": "python",
   "name": "python3"
  },
  "language_info": {
   "codemirror_mode": {
    "name": "ipython",
    "version": 3
   },
   "file_extension": ".py",
   "mimetype": "text/x-python",
   "name": "python",
   "nbconvert_exporter": "python",
   "pygments_lexer": "ipython3",
   "version": "3.9.12"
  }
 },
 "nbformat": 4,
 "nbformat_minor": 5
}
