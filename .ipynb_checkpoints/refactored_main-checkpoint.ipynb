{
 "cells": [
  {
   "cell_type": "code",
   "execution_count": 54,
   "id": "acb32b46",
   "metadata": {},
   "outputs": [],
   "source": [
    "#Let us start off by anonottating dumy transactions\n",
    "transaction1 = {\n",
    "  'amount': '30',\n",
    "  'sender': 'Alice',\n",
    "  'receiver': 'Bob'}\n",
    "transaction2 = { \n",
    "  'amount': '200',\n",
    "  'sender': 'Bob',\n",
    "  'receiver': 'Alice'}\n",
    "transaction3 = { \n",
    "  'amount': '300',\n",
    "  'sender': 'Alice',\n",
    "  'receiver': 'Timothy' }\n",
    "transaction4 = { \n",
    "  'amount': '300',\n",
    "  'sender': 'Rodrigo',\n",
    "  'receiver': 'Thomas' }\n",
    "transaction5 = { \n",
    "  'amount': '200',\n",
    "  'sender': 'Timothy',\n",
    "  'receiver': 'Thomas' }\n",
    "transaction6 = { \n",
    "  'amount': '400',\n",
    "  'sender': 'Tiffany',\n",
    "  'receiver': 'Xavier' }\n",
    "\n",
    "mempool = [transaction1, transaction2, transaction3, transaction4, transaction5, transaction6]"
   ]
  },
  {
   "cell_type": "code",
   "execution_count": 55,
   "id": "d3e176fc",
   "metadata": {},
   "outputs": [
    {
     "name": "stdout",
     "output_type": "stream",
     "text": [
      "Please enter how many random transactions you want to generate: 10000\n"
     ]
    }
   ],
   "source": [
    "#Let us enable the user to generate transactions as much as they want and append them to the mempool\n",
    "import names\n",
    "import random\n",
    "total_dummy_transactions = int(input(\"Please enter how many random transactions you want to generate: \"))\n",
    "senders = [names.get_first_name() for i in range(total_dummy_transactions)]\n",
    "receivers = [names.get_first_name() for i in range(total_dummy_transactions)]\n",
    "dummy_values = [random.randint(200,1500) for i in range(total_dummy_transactions)]\n",
    "dummy_transactions = [\n",
    "    {\n",
    "        'amount':f\"{dummy_values[i]}\",\n",
    "        'sender':f\"{senders[i]}\",\n",
    "        'receiver':f\"{receivers[i]}\"    \n",
    "    }\n",
    "    for i in range(total_dummy_transactions)\n",
    "]\n",
    "mempool.extend(dummy_transactions)"
   ]
  },
  {
   "cell_type": "code",
   "execution_count": 56,
   "id": "aacc0608",
   "metadata": {},
   "outputs": [],
   "source": [
    "class Validator:\n",
    "    def __init__(self, pub_key, chain):\n",
    "        self.pub_key = pub_key\n",
    "        self.chain = chain\n",
    "        self.consensus_code = 0\n",
    "        self.validators_copy = [] #Contain public key of all validators\n",
    "    def calculate_kwm(self,own=True):\n",
    "        alphabets = \"ABCDEFGHIJKLMNOPQRSTUVWXYZ\"\n",
    "        dictionary = {}\n",
    "        i = 11\n",
    "        j = 37\n",
    "        for letter in alphabets:\n",
    "            dictionary[letter.lower()] = j\n",
    "            dictionary[letter] = i\n",
    "            j += 1\n",
    "            i+=1\n",
    "        for i in range(10):\n",
    "            dictionary[i] = i\n",
    "        kwm = 0\n",
    "        if own:\n",
    "            hash_to_calculate = self.pub_key\n",
    "        for individual_letter in hash_to_calculate:\n",
    "            try:\n",
    "                kwm += dictionary[individual_letter]\n",
    "            except:\n",
    "                kwm += dictionary[int(individual_letter)]\n",
    "        return kwm"
   ]
  },
  {
   "cell_type": "code",
   "execution_count": 57,
   "id": "0b609207",
   "metadata": {},
   "outputs": [],
   "source": [
    "#The creation of the block\n",
    "from datetime import datetime\n",
    "from hashlib import sha256\n",
    "class Block:\n",
    "    #Initializing the block\n",
    "    def __init__(self, transactions, previous_hash,nonce=0):\n",
    "        self.transactions = transactions\n",
    "        self.previous_hash = previous_hash\n",
    "        self.nonce = nonce\n",
    "        self.timestamp = datetime.now()\n",
    "        #Call the geretate_hash to get the hash of block\n",
    "        self.hash = self.generate_hash()\n",
    "    def display_block_info(self):\n",
    "        print(\"tmestamp: \", self.timestamp)\n",
    "        print(\"transactions: \", self.transactions)\n",
    "        print(\"Current hash: \", self.generate_hash())\n",
    "    #We now proceed to generate hash for the block\n",
    "    def generate_hash(self):\n",
    "        block_contents = str(self.timestamp)+str(self.transactions)+str(self.nonce)+str(self.previous_hash)\n",
    "        block_hash = sha256(block_contents.encode())\n",
    "        return block_hash.hexdigest()"
   ]
  },
  {
   "cell_type": "code",
   "execution_count": 58,
   "id": "c5d4d5be",
   "metadata": {},
   "outputs": [],
   "source": [
    "class Blockchain:\n",
    "    def __init__(self):\n",
    "        self.chain = []\n",
    "        self.all_transactions = []\n",
    "        self.genesis_block()\n",
    "    \n",
    "    def genesis_block(self):\n",
    "        transactions = {}\n",
    "        genesis_block = Block(transactions, \"0\")\n",
    "        self.chain.append(genesis_block)\n",
    "        return self.chain\n",
    "    def print_blocks(self):\n",
    "        for i in range(len(self.chain)):\n",
    "            current_block = self.chain[i]\n",
    "            print(\"Block {} {}\".format(i, current_block))\n",
    "            current_block.display_block_info()\n",
    "    #Add block to the chain\n",
    "    def add_block(self, transactions):\n",
    "        self.previous_block_hash = self.chain[len(self.chain)-1].hash\n",
    "        new_block = Block(transactions, self.previous_block_hash)\n",
    "        #We need to calculate the proof of work\n",
    "        proof = self.proof_of_work(new_block, difficulty=0)\n",
    "        self.chain.append(new_block)\n",
    "        return proof, new_block\n",
    "    def validate_chain(self):\n",
    "        for i in range(1, len(self.chain)):\n",
    "            current = self.chain[i]\n",
    "            previous = self.chain[i-1]\n",
    "            if (current.hash != current.generate_hash()):\n",
    "                print(\"The current hash of the block does not equal the generated hash of the block.\")\n",
    "                return False\n",
    "            if (current.previous_hash != previous.generate_hash()):\n",
    "                print(\"Previous block not equal previous hash value stored in current block\")\n",
    "                return False\n",
    "        return True\n",
    "    def proof_of_work(self,block,difficulty=2):\n",
    "        proof = block.generate_hash()\n",
    "        while proof[:difficulty] != '0'*difficulty:\n",
    "            block.nonce += 1\n",
    "            proof = block.generate_hash()\n",
    "        block.nonce = 0\n",
    "        return proof"
   ]
  },
  {
   "cell_type": "code",
   "execution_count": 59,
   "id": "2c03a1d8",
   "metadata": {},
   "outputs": [],
   "source": [
    "#Staring off the tree chain\n",
    "validator1_copy = Validator(\"axqPe96aiwZjQ\", Blockchain())  \n",
    "validator2_copy = Validator(\"aQfx12ijAtcTM\",Blockchain())\n",
    "validator3_copy = Validator(\"J94Vswa72liac\", Blockchain())"
   ]
  },
  {
   "cell_type": "code",
   "execution_count": 60,
   "id": "55875049",
   "metadata": {},
   "outputs": [],
   "source": [
    "#Let's now randomize the mempool\n",
    "import math\n",
    "import random\n",
    "random.shuffle(mempool)"
   ]
  },
  {
   "cell_type": "code",
   "execution_count": 61,
   "id": "21844c8a",
   "metadata": {},
   "outputs": [],
   "source": [
    "validators = [validator1_copy, validator2_copy, validator3_copy]\n",
    "validators = sorted(validators, key=Validator.calculate_kwm, reverse=True)"
   ]
  },
  {
   "cell_type": "code",
   "execution_count": 62,
   "id": "26eb53ba",
   "metadata": {},
   "outputs": [],
   "source": [
    "#Assign the consensus code\n",
    "consensus_reference = [1,2,3,4,5,6,7,8,9, 'A', 'B','C','D','E','F','G','H','I','J','K','L','M','N','O','P','Q','R','S','T','U'\n",
    "                      'V','W','X','Y','Z','a','b','c','d','e','f','g','h','i','j','k','l','m','n','o','q','r','s','t','u','v',\n",
    "                      'w','x','y','z']\n",
    "code_multiplier = math.ceil(len(mempool)/len(consensus_reference))\n",
    "consensus_codes = [str(consensus_reference[i])*code_multiplier for i in range(len(validators))]\n",
    "#Assign the consensus_code to validators\n",
    "for i in range(len(validators)):\n",
    "    validators[i].consensus_code = consensus_codes[i]"
   ]
  },
  {
   "cell_type": "code",
   "execution_count": 63,
   "id": "c64a0db1",
   "metadata": {},
   "outputs": [],
   "source": [
    "#We first pick just enough validators if they are more than transactions\n",
    "if len(mempool) < len(validators):\n",
    "    validators = validators[:len(mempool)]\n",
    "transaction_first_validator = math.ceil(len(mempool)/len(validators))\n",
    "share_by_other_validators = math.floor(len(mempool)/len(validators))\n",
    "divisions = []\n",
    "divisions.append(transaction_first_validator)\n",
    "for validator in validators[1:]:\n",
    "    divisions.append(share_by_other_validators)"
   ]
  },
  {
   "cell_type": "code",
   "execution_count": 64,
   "id": "10f4bc13",
   "metadata": {},
   "outputs": [],
   "source": [
    "new_division = []\n",
    "j = 0\n",
    "for i in divisions:\n",
    "    j += i\n",
    "    new_division.append(j)"
   ]
  },
  {
   "cell_type": "code",
   "execution_count": 65,
   "id": "361c8c85",
   "metadata": {},
   "outputs": [],
   "source": [
    "transaction_share = []\n",
    "transaction_share.append(mempool[:transaction_first_validator])"
   ]
  },
  {
   "cell_type": "code",
   "execution_count": 66,
   "id": "80452a9b",
   "metadata": {
    "scrolled": true
   },
   "outputs": [],
   "source": [
    "for i in range(len(validators[1:])):\n",
    "    transaction_share.append(mempool[new_division[i]-share_by_other_validators:new_division[i]])"
   ]
  },
  {
   "cell_type": "code",
   "execution_count": 67,
   "id": "3b1610a1",
   "metadata": {},
   "outputs": [],
   "source": [
    "#Staring the blockchain so that it runs\n",
    "main_blockchain = Blockchain()"
   ]
  },
  {
   "cell_type": "code",
   "execution_count": 68,
   "id": "608a188d",
   "metadata": {},
   "outputs": [],
   "source": [
    "#Function to add blocks and validate_chain\n",
    "def add_block_and_validate():\n",
    "    for i in range(len(validators)):\n",
    "        validator_copy = validators[i].chain\n",
    "        validator_copy.add_block(transaction_share[i])\n",
    "    if validator_copy.validate_chain():\n",
    "        validator_copy.chain[-1].hash = consensus_codes[i]+str(validator_copy.chain[-1].hash)\n",
    "        main_blockchain=validator_copy\n",
    "    else:\n",
    "        print(f\"Validator index {i} is acting maliciously, there is need to intervene\")"
   ]
  },
  {
   "cell_type": "code",
   "execution_count": 69,
   "id": "8633b232",
   "metadata": {},
   "outputs": [
    {
     "name": "stdout",
     "output_type": "stream",
     "text": [
      "Time taken is: 0.052541494369506836 seconds\n"
     ]
    }
   ],
   "source": [
    "import time\n",
    "start_time = time.time()\n",
    "add_block_and_validate()\n",
    "end_time = time.time()\n",
    "time_taken = end_time - start_time\n",
    "print(f\"Time taken is: {time_taken} seconds\")"
   ]
  }
 ],
 "metadata": {
  "kernelspec": {
   "display_name": "Python 3 (ipykernel)",
   "language": "python",
   "name": "python3"
  },
  "language_info": {
   "codemirror_mode": {
    "name": "ipython",
    "version": 3
   },
   "file_extension": ".py",
   "mimetype": "text/x-python",
   "name": "python",
   "nbconvert_exporter": "python",
   "pygments_lexer": "ipython3",
   "version": "3.9.12"
  }
 },
 "nbformat": 4,
 "nbformat_minor": 5
}
